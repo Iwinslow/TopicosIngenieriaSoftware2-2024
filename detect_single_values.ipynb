{
 "cells": [
  {
   "cell_type": "code",
   "execution_count": 10,
   "metadata": {},
   "outputs": [
    {
     "name": "stdout",
     "output_type": "stream",
     "text": [
      "71\n"
     ]
    }
   ],
   "source": [
    "import pandas as pd\n",
    "import rdflib\n",
    "import numpy\n",
    "\n",
    "df = pd.read_csv('dataset/raw.csv.gz', dialect='excel', keep_default_na=False, dtype=str, index_col=0)\n",
    "\n",
    "subset_df = df.iloc[1000:1200]\n",
    "\n",
    "DESDE = 1000\n",
    "HASTA = 1200\n",
    "contador = 0\n",
    "for i in range(DESDE, HASTA):\n",
    "    if(len(df.loc[i].dup_candidates.split())<2):contador+=1\n",
    "\n",
    "print(contador)\n",
    "\n"
   ]
  },
  {
   "cell_type": "code",
   "execution_count": 5,
   "metadata": {},
   "outputs": [
    {
     "data": {
      "text/plain": [
       "'1003 7968'"
      ]
     },
     "execution_count": 5,
     "metadata": {},
     "output_type": "execute_result"
    }
   ],
   "source": [
    "df.loc[1003].dup_candidates\n",
    "\n"
   ]
  },
  {
   "cell_type": "code",
   "execution_count": 17,
   "metadata": {},
   "outputs": [
    {
     "name": "stdout",
     "output_type": "stream",
     "text": [
      "1000\n",
      "1001\n",
      "1002\n",
      "\n",
      "\n",
      "1005\n"
     ]
    }
   ],
   "source": [
    "# inicializo la lista con cadenas vacias que significa que aun no se reviso\n",
    "revised = ['']*200\n",
    "\n",
    "OFFSET =1000 # para que el indice de la lista sea el mismo que el del dataframe\n",
    "for i in range(0,199):\n",
    "    if(len(df.loc[i+OFFSET].dup_candidates.split())<2):revised[i] = df.loc[i+OFFSET].dup_candidates\n",
    "\n",
    "\n",
    "#print(revised[0])\n",
    "# #print(revised[1])\n",
    "#print(revised[2])\n",
    "#print(revised[3]) sale linea vacia porque este tiene mas duplicados\n",
    "#print(revised[4])\n",
    "#print(revised[5])\n"
   ]
  }
 ],
 "metadata": {
  "kernelspec": {
   "display_name": "Python 3",
   "language": "python",
   "name": "python3"
  },
  "language_info": {
   "codemirror_mode": {
    "name": "ipython",
    "version": 3
   },
   "file_extension": ".py",
   "mimetype": "text/x-python",
   "name": "python",
   "nbconvert_exporter": "python",
   "pygments_lexer": "ipython3",
   "version": "3.9.13"
  }
 },
 "nbformat": 4,
 "nbformat_minor": 2
}
