{
 "cells": [
  {
   "cell_type": "markdown",
   "id": "95b67245-ed75-4a80-b570-236b74099034",
   "metadata": {},
   "source": [
    "# Exploración del dataset\n"
   ]
  },
  {
   "cell_type": "code",
   "execution_count": null,
   "id": "6f464244-b461-43d1-bd00-623c5927773c",
   "metadata": {},
   "outputs": [],
   "source": [
    "import pandas as pd\n",
    "import rdflib\n",
    "import numpy"
   ]
  },
  {
   "cell_type": "code",
   "execution_count": null,
   "id": "55cb2f9f-71d9-40d4-8286-52088f80c9c4",
   "metadata": {},
   "outputs": [],
   "source": [
    "df = pd.read_csv('dataset/raw.csv.gz', dialect='excel', keep_default_na=False, dtype=str, index_col=0)"
   ]
  },
  {
   "cell_type": "markdown",
   "id": "d4ad73e7-ab77-449a-9da6-8f88b8b0969c",
   "metadata": {},
   "source": [
    "El dataset tiene un indice que no se corresponde con la cantidad de filas del dataset, sino con el dataset original. Para acceder a las filas se puede usar `.loc[indice]` en lugar de `.iloc[indice]`.\n"
   ]
  },
  {
   "cell_type": "code",
   "execution_count": null,
   "id": "f8b7c861-d286-40b0-9213-de6478a4f995",
   "metadata": {},
   "outputs": [],
   "source": [
    "df.index"
   ]
  },
  {
   "cell_type": "code",
   "execution_count": null,
   "id": "f2f64b92-76fa-4312-bc4f-8fab6f12b237",
   "metadata": {},
   "outputs": [],
   "source": [
    "df.loc[764981]  # .loc hace referencia al indice"
   ]
  },
  {
   "cell_type": "code",
   "execution_count": null,
   "id": "2860a47c-afe6-4ebe-8239-41bf43511ece",
   "metadata": {},
   "outputs": [],
   "source": [
    "df.iloc[764981] # .iloc hace referencia al número de fila dentro del dataset"
   ]
  },
  {
   "cell_type": "markdown",
   "id": "f221aea7-b772-40a8-9cc0-f73686d9a3f9",
   "metadata": {},
   "source": [
    "Obtener mis las lineas en las que tengo que trabajar.\n"
   ]
  },
  {
   "cell_type": "code",
   "execution_count": null,
   "id": "ec95315b-486e-4b05-8347-1496062a1a14",
   "metadata": {},
   "outputs": [],
   "source": [
    "df.iloc[0:200]"
   ]
  },
  {
   "cell_type": "markdown",
   "id": "048ea2df-5ba1-411e-97c7-e2826ed89e6e",
   "metadata": {},
   "source": [
    "☝️ Chequear que tenga 200 filas\n"
   ]
  },
  {
   "cell_type": "code",
   "execution_count": null,
   "id": "c8a1e661-0f06-4c91-8767-d6e22ce1afde",
   "metadata": {},
   "outputs": [],
   "source": [
    "Obtener los candidatos duplicados para una fila"
   ]
  },
  {
   "cell_type": "code",
   "execution_count": null,
   "id": "054c4809-ca63-4c44-89c2-91e4c87602a8",
   "metadata": {},
   "outputs": [],
   "source": [
    "df.loc[199].dup_candidates"
   ]
  },
  {
   "cell_type": "code",
   "execution_count": null,
   "id": "1d02c08c-d34a-4a18-aa92-c0b00ee1b053",
   "metadata": {},
   "outputs": [],
   "source": [
    "Chequear las descripciones de una fila"
   ]
  },
  {
   "cell_type": "code",
   "execution_count": null,
   "id": "a2f90c44-46e6-4b5b-a80b-f1bc753bd3ff",
   "metadata": {},
   "outputs": [],
   "source": [
    "candidates = [int(x) for x in df.iloc[199].dup_candidates.split()] # Esto devuelve una lista de indices [990, 1200]\n",
    "df.loc[candidates] # Esto devuelve las filas de un dataset en esa lista de indices"
   ]
  },
  {
   "cell_type": "code",
   "execution_count": null,
   "id": "405f9257-b4ff-45af-8d41-a43e2d9ea12d",
   "metadata": {},
   "outputs": [],
   "source": [
    "# muestra las descripciones de cada aviso junto con sus indidces...\n",
    "for idx, desc in zip(candidates,df.loc[candidates]['description']):\n",
    "    print(f' {idx}   ******************')\n",
    "    print(desc)\n",
    "    print()"
   ]
  },
  {
   "cell_type": "markdown",
   "id": "898ab9bd-d2d2-4607-baa1-9b5bbfcb5dd1",
   "metadata": {},
   "source": [
    "## El curado de los datos\n",
    "\n",
    "Lo que debemos hacer es revisar los avisos a ver si los candidatos realmente están duplicados o no. -+En caso de no estar duplicados, la columna dup_candidates debe ser corregida. Suponga que estamos revisando la fila 199. El valor de la columna `dup_candidates` para la fila 199 es `'199 305206 624765'`, es decir que las filas 305206 y 624765 son duplicadas de la 199. No es el caso en este ejemplo, pero supongamos que la fila 305206 no hace referencia a la misma propiedad. Entonces, la versión corregida para `dup_candidates` debería contener solo `'199 624765'`. Por el contrario, si efectivamente todas las ocurrencias hablan de la misma propiedad, entonces la versión corregida para `dup_candidates` debería quedar exactamente igual, es decir `'199 305206 624765'`.\n",
    "\n",
    "La idea es generar una nueva lista de 200 strings, con las columnas revisadas y agregarla a un nuevo dataset.\n"
   ]
  },
  {
   "cell_type": "code",
   "execution_count": null,
   "id": "f8ea14ce-a47f-4e23-bbaf-8c05ade34715",
   "metadata": {},
   "outputs": [],
   "source": [
    "# Inserte su metodología para detectar duplicados aquí!\n",
    "# El resultado debe ser una lista de 200 strings.\n",
    "\n",
    "revised = ['']*200\n",
    "revised[0] = '0'\n",
    "revised[1] = '1'\n",
    "revised[2] = '2'\n",
    "# ...\n",
    "revised[199] = '199 305206 624765'; # <=== Cuidado con el orden de la lista!\n",
    "revised[-10:] "
   ]
  },
  {
   "cell_type": "markdown",
   "id": "ede3ff16-1870-4ad6-a811-204901b5ac3e",
   "metadata": {},
   "source": [
    "La nueva lista de strings puede tener valores en blanco (un string vacio `''`). Esto indica que esa fila no fue revisada. Además, el orden de los indices no importa, por lo tanto `'199 305206 624765'` es igual a `'199 624765 305206'` y a `'305206 624765 199'`.\n"
   ]
  },
  {
   "cell_type": "markdown",
   "id": "2b31526d-a89a-46bf-8ca4-5dc7f0ee3a23",
   "metadata": {},
   "source": [
    "## Forma del entregable\n",
    "\n",
    "El entregable será un nuevo dataset con una nueva columna llamada `dup_curated` el cual contrendrá un string nuevo por cada fila. Este string representará las filas que están duplicadas que han sido verificadas. Si las filas con indice 199, 305206 y 624765 están efectivamente duplicadas, como en el ejemplo anterior, la nueva columna debe quedar igual, es decir, para la fila con indice 199 tendrá el valor\n",
    "\n",
    "`199 305206 624765`\n",
    "\n",
    "Una vez que estemos contentos con la nueva lista revisada, vamos a crear un nuevo dataset y a agregar la nueva columna. Si el dataset no tiene la misma longitud que la lista, nos va a dar error! Ojo con eso y ojo con el orden de los elementos de la lista.\n"
   ]
  },
  {
   "cell_type": "code",
   "execution_count": null,
   "id": "78541411-5a4f-4aea-b661-f007a5803e2e",
   "metadata": {},
   "outputs": [],
   "source": [
    "newdf = df.iloc[0:200][['dup_candidates']]\n",
    "newdf"
   ]
  },
  {
   "cell_type": "code",
   "execution_count": null,
   "id": "f14fe49c-038f-4b68-912c-1388076914e1",
   "metadata": {},
   "outputs": [],
   "source": [
    "newdf['dup_curated'] = revised"
   ]
  },
  {
   "cell_type": "code",
   "execution_count": null,
   "id": "beea877e-8b7b-4447-b01a-eeb034e6e68d",
   "metadata": {},
   "outputs": [],
   "source": [
    "newdf"
   ]
  },
  {
   "cell_type": "code",
   "execution_count": null,
   "id": "5b43e38d-5e18-485b-bd04-5e6f35dfed66",
   "metadata": {},
   "outputs": [],
   "source": [
    "grupo_nro = 1\n",
    "newdf.to_csv(f'dataset/entrega_tis_grupo_{grupo_nro:02}.csv.gz', escapechar='\"')"
   ]
  },
  {
   "cell_type": "code",
   "execution_count": null,
   "id": "84f6bb26-9202-4135-ac57-940487c7816f",
   "metadata": {},
   "outputs": [],
   "source": []
  }
 ],
 "metadata": {
  "kernelspec": {
   "display_name": "Python 3",
   "language": "python",
   "name": "python3"
  },
  "language_info": {
   "codemirror_mode": {
    "name": "ipython",
    "version": 3
   },
   "file_extension": ".py",
   "mimetype": "text/x-python",
   "name": "python",
   "nbconvert_exporter": "python",
   "pygments_lexer": "ipython3",
   "version": "3.11.9"
  }
 },
 "nbformat": 4,
 "nbformat_minor": 5
}
